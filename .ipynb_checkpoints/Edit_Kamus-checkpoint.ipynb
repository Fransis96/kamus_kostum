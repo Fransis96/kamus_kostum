{
 "cells": [
  {
   "cell_type": "markdown",
   "id": "24e355d0-ee1f-4e95-b733-0b5de3b31e9b",
   "metadata": {},
   "source": [
    "## Menambahkan Petik 2"
   ]
  },
  {
   "cell_type": "code",
   "execution_count": 34,
   "id": "d6542ced-1bc0-4b81-9576-a9bd695c6272",
   "metadata": {},
   "outputs": [
    {
     "name": "stdout",
     "output_type": "stream",
     "text": [
      "     kata     kata2\n",
      "0     dan     \"dan\"\n",
      "1    atau    \"atau\"\n",
      "2    tapi    \"tapi\"\n",
      "3    jika    \"jika\"\n",
      "4  dengan  \"dengan\"\n"
     ]
    }
   ],
   "source": [
    "import pandas as pd\n",
    "import csv\n",
    "\n",
    "# Muat data\n",
    "df = pd.read_csv('stopWord.csv')\n",
    "\n",
    "# Bersihkan tanda petik lama dan tambahkan satu set tanda petik dua\n",
    "df['kata2'] = df['kata'].str.strip('\"').apply(lambda x: f'\"{x}\"')\n",
    "\n",
    "# Jika perlu menyimpan ke file baru\n",
    "df[['kata2']].to_csv('StopWrd.csv', index=False, quoting=csv.QUOTE_NONE)\n",
    "\n",
    "# Menampilkan hasil\n",
    "print(df.head())"
   ]
  },
  {
   "cell_type": "code",
   "execution_count": 35,
   "id": "36ccf569-52f5-4429-9624-ad7d7659dd2b",
   "metadata": {},
   "outputs": [
    {
     "data": {
      "text/html": [
       "<div>\n",
       "<style scoped>\n",
       "    .dataframe tbody tr th:only-of-type {\n",
       "        vertical-align: middle;\n",
       "    }\n",
       "\n",
       "    .dataframe tbody tr th {\n",
       "        vertical-align: top;\n",
       "    }\n",
       "\n",
       "    .dataframe thead th {\n",
       "        text-align: right;\n",
       "    }\n",
       "</style>\n",
       "<table border=\"1\" class=\"dataframe\">\n",
       "  <thead>\n",
       "    <tr style=\"text-align: right;\">\n",
       "      <th></th>\n",
       "      <th>kata2</th>\n",
       "    </tr>\n",
       "  </thead>\n",
       "  <tbody>\n",
       "    <tr>\n",
       "      <th>0</th>\n",
       "      <td>dan</td>\n",
       "    </tr>\n",
       "    <tr>\n",
       "      <th>1</th>\n",
       "      <td>atau</td>\n",
       "    </tr>\n",
       "    <tr>\n",
       "      <th>2</th>\n",
       "      <td>tapi</td>\n",
       "    </tr>\n",
       "    <tr>\n",
       "      <th>3</th>\n",
       "      <td>jika</td>\n",
       "    </tr>\n",
       "    <tr>\n",
       "      <th>4</th>\n",
       "      <td>dengan</td>\n",
       "    </tr>\n",
       "  </tbody>\n",
       "</table>\n",
       "</div>"
      ],
      "text/plain": [
       "    kata2\n",
       "0     dan\n",
       "1    atau\n",
       "2    tapi\n",
       "3    jika\n",
       "4  dengan"
      ]
     },
     "execution_count": 35,
     "metadata": {},
     "output_type": "execute_result"
    }
   ],
   "source": [
    "df2 = pd.read_csv('StopWrd.csv')\n",
    "df2.head()"
   ]
  },
  {
   "cell_type": "code",
   "execution_count": null,
   "id": "182a4182-06fc-4d24-9c59-4087e6e10854",
   "metadata": {},
   "outputs": [],
   "source": []
  }
 ],
 "metadata": {
  "kernelspec": {
   "display_name": "Python 3 (ipykernel)",
   "language": "python",
   "name": "python3"
  },
  "language_info": {
   "codemirror_mode": {
    "name": "ipython",
    "version": 3
   },
   "file_extension": ".py",
   "mimetype": "text/x-python",
   "name": "python",
   "nbconvert_exporter": "python",
   "pygments_lexer": "ipython3",
   "version": "3.12.4"
  }
 },
 "nbformat": 4,
 "nbformat_minor": 5
}
